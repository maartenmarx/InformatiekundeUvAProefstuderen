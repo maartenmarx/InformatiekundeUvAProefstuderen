{
 "cells": [
  {
   "cell_type": "markdown",
   "metadata": {
    "toc": true
   },
   "source": [
    "<h1>Table of Contents<span class=\"tocSkip\"></span></h1>\n",
    "<div class=\"toc\"><ul class=\"toc-item\"><li><span><a href=\"#Introductie-Python\" data-toc-modified-id=\"Introductie-Python-1\"><span class=\"toc-item-num\">1&nbsp;&nbsp;</span>Introductie Python</a></span><ul class=\"toc-item\"><li><ul class=\"toc-item\"><li><span><a href=\"#Inhoud-van-de-introductie\" data-toc-modified-id=\"Inhoud-van-de-introductie-1.0.1\"><span class=\"toc-item-num\">1.0.1&nbsp;&nbsp;</span>Inhoud van de introductie</a></span></li></ul></li><li><span><a href=\"#Rekenen-met-python\" data-toc-modified-id=\"Rekenen-met-python-1.1\"><span class=\"toc-item-num\">1.1&nbsp;&nbsp;</span>Rekenen met python</a></span><ul class=\"toc-item\"><li><span><a href=\"#Nu-jij\" data-toc-modified-id=\"Nu-jij-1.1.1\"><span class=\"toc-item-num\">1.1.1&nbsp;&nbsp;</span>Nu jij</a></span></li></ul></li><li><span><a href=\"#Rekenen-met-woorden\" data-toc-modified-id=\"Rekenen-met-woorden-1.2\"><span class=\"toc-item-num\">1.2&nbsp;&nbsp;</span>Rekenen met woorden</a></span><ul class=\"toc-item\"><li><ul class=\"toc-item\"><li><span><a href=\"#Probeer-het-uit-en-vergeet-het-nooit-meer.\" data-toc-modified-id=\"Probeer-het-uit-en-vergeet-het-nooit-meer.-1.2.0.1\"><span class=\"toc-item-num\">1.2.0.1&nbsp;&nbsp;</span>Probeer het uit en vergeet het nooit meer.</a></span></li></ul></li></ul></li><li><span><a href=\"#Type-casting\" data-toc-modified-id=\"Type-casting-1.3\"><span class=\"toc-item-num\">1.3&nbsp;&nbsp;</span>Type casting</a></span><ul class=\"toc-item\"><li><ul class=\"toc-item\"><li><span><a href=\"#Experimenteer-met-de-volgende-code\" data-toc-modified-id=\"Experimenteer-met-de-volgende-code-1.3.0.1\"><span class=\"toc-item-num\">1.3.0.1&nbsp;&nbsp;</span>Experimenteer met de volgende code</a></span></li></ul></li><li><span><a href=\"#De-mooie-vermenigvuldiging:-loops\" data-toc-modified-id=\"De-mooie-vermenigvuldiging:-loops-1.3.1\"><span class=\"toc-item-num\">1.3.1&nbsp;&nbsp;</span>De mooie vermenigvuldiging: loops</a></span><ul class=\"toc-item\"><li><span><a href=\"#range()-en-lijsten\" data-toc-modified-id=\"range()-en-lijsten-1.3.1.1\"><span class=\"toc-item-num\">1.3.1.1&nbsp;&nbsp;</span><code>range()</code> en lijsten</a></span></li></ul></li><li><span><a href=\"#Onze-mooie-vermenigvuldiging\" data-toc-modified-id=\"Onze-mooie-vermenigvuldiging-1.3.2\"><span class=\"toc-item-num\">1.3.2&nbsp;&nbsp;</span>Onze mooie vermenigvuldiging</a></span></li></ul></li><li><span><a href=\"#Nu-JIJ:\" data-toc-modified-id=\"Nu-JIJ:-1.4\"><span class=\"toc-item-num\">1.4&nbsp;&nbsp;</span>Nu JIJ:</a></span></li><li><span><a href=\"#Antwoorden\" data-toc-modified-id=\"Antwoorden-1.5\"><span class=\"toc-item-num\">1.5&nbsp;&nbsp;</span>Antwoorden</a></span><ul class=\"toc-item\"><li><span><a href=\"#Print-nog-meer-van-dit-soort-producten.-Kan-je-verklaren-wat-er-gebeurt?\" data-toc-modified-id=\"Print-nog-meer-van-dit-soort-producten.-Kan-je-verklaren-wat-er-gebeurt?-1.5.1\"><span class=\"toc-item-num\">1.5.1&nbsp;&nbsp;</span>Print nog meer van dit soort producten. Kan je verklaren wat er gebeurt?</a></span></li><li><span><a href=\"#Probeer-ze-eens-in-de-omgekeerde-volgorde-uit-te-printen.\" data-toc-modified-id=\"Probeer-ze-eens-in-de-omgekeerde-volgorde-uit-te-printen.-1.5.2\"><span class=\"toc-item-num\">1.5.2&nbsp;&nbsp;</span>Probeer ze eens in de omgekeerde volgorde uit te printen.</a></span></li><li><span><a href=\"#Kan-je-ze-zo-uit-printen-dat-de-uitkomst-een-mooie-driehoek-wordt?\" data-toc-modified-id=\"Kan-je-ze-zo-uit-printen-dat-de-uitkomst-een-mooie-driehoek-wordt?-1.5.3\"><span class=\"toc-item-num\">1.5.3&nbsp;&nbsp;</span>Kan je ze zo uit printen dat de uitkomst een mooie driehoek wordt?</a></span></li></ul></li><li><span><a href=\"#Maak-een-functie-voor-dit-soort-driehoeksrijtjes-met-als-argumenten-het-getal-waarmee-je-begint-(1,2,3,..)-en-het-aantal-keer-dat-je-het-product-uitvoert.\" data-toc-modified-id=\"Maak-een-functie-voor-dit-soort-driehoeksrijtjes-met-als-argumenten-het-getal-waarmee-je-begint-(1,2,3,..)-en-het-aantal-keer-dat-je-het-product-uitvoert.-1.6\"><span class=\"toc-item-num\">1.6&nbsp;&nbsp;</span>Maak een functie voor dit soort driehoeksrijtjes met als argumenten het getal waarmee je begint (1,2,3,..) en het aantal keer dat je het product uitvoert.</a></span><ul class=\"toc-item\"><li><span><a href=\"#Speciale-Kerst-Boom\" data-toc-modified-id=\"Speciale-Kerst-Boom-1.6.1\"><span class=\"toc-item-num\">1.6.1&nbsp;&nbsp;</span>Speciale Kerst Boom</a></span></li></ul></li><li><span><a href=\"#Python-kan-alles!\" data-toc-modified-id=\"Python-kan-alles!-1.7\"><span class=\"toc-item-num\">1.7&nbsp;&nbsp;</span>Python kan alles!</a></span><ul class=\"toc-item\"><li><span><a href=\"#Hierna\" data-toc-modified-id=\"Hierna-1.7.1\"><span class=\"toc-item-num\">1.7.1&nbsp;&nbsp;</span>Hierna</a></span></li></ul></li><li><span><a href=\"#Fibonacci\" data-toc-modified-id=\"Fibonacci-1.8\"><span class=\"toc-item-num\">1.8&nbsp;&nbsp;</span>Fibonacci</a></span><ul class=\"toc-item\"><li><span><a href=\"#Voortplanting-van-konijnen\" data-toc-modified-id=\"Voortplanting-van-konijnen-1.8.1\"><span class=\"toc-item-num\">1.8.1&nbsp;&nbsp;</span>Voortplanting van konijnen</a></span></li></ul></li></ul></li><li><span><a href=\"#In-formele-regels\" data-toc-modified-id=\"In-formele-regels-2\"><span class=\"toc-item-num\">2&nbsp;&nbsp;</span>In formele regels</a></span></li><li><span><a href=\"#Fibonacci-reeks-in-de-Nautilus-schelp\" data-toc-modified-id=\"Fibonacci-reeks-in-de-Nautilus-schelp-3\"><span class=\"toc-item-num\">3&nbsp;&nbsp;</span>Fibonacci reeks in de Nautilus schelp</a></span><ul class=\"toc-item\"><li><ul class=\"toc-item\"><li><span><a href=\"#Programmeren\" data-toc-modified-id=\"Programmeren-3.0.1\"><span class=\"toc-item-num\">3.0.1&nbsp;&nbsp;</span>Programmeren</a></span><ul class=\"toc-item\"><li><span><a href=\"#In-Python\" data-toc-modified-id=\"In-Python-3.0.1.1\"><span class=\"toc-item-num\">3.0.1.1&nbsp;&nbsp;</span>In Python</a></span></li></ul></li></ul></li></ul></li><li><span><a href=\"#Nu-met-echte-konijnen\" data-toc-modified-id=\"Nu-met-echte-konijnen-4\"><span class=\"toc-item-num\">4&nbsp;&nbsp;</span>Nu met echte konijnen</a></span></li><li><span><a href=\"#Tot-slot:-mail-sturen-vanuit-Python!\" data-toc-modified-id=\"Tot-slot:-mail-sturen-vanuit-Python!-5\"><span class=\"toc-item-num\">5&nbsp;&nbsp;</span>Tot slot: mail sturen vanuit Python!</a></span><ul class=\"toc-item\"><li><ul class=\"toc-item\"><li><span><a href=\"#Be-aware\" data-toc-modified-id=\"Be-aware-5.0.1\"><span class=\"toc-item-num\">5.0.1&nbsp;&nbsp;</span>Be aware</a></span></li></ul></li></ul></li><li><span><a href=\"#Mail-versturen,-spammen\" data-toc-modified-id=\"Mail-versturen,-spammen-6\"><span class=\"toc-item-num\">6&nbsp;&nbsp;</span>Mail versturen, spammen</a></span></li></ul></div>"
   ]
  },
  {
   "cell_type": "code",
   "execution_count": 1,
   "metadata": {
    "slideshow": {
     "slide_type": "slide"
    }
   },
   "outputs": [
    {
     "data": {
      "text/plain": [
       "array([0, 1, 2, 3, 4, 5, 6, 7, 8])"
      ]
     },
     "execution_count": 1,
     "metadata": {},
     "output_type": "execute_result"
    }
   ],
   "source": [
    "from numpy import arange as range\n",
    "\n",
    "range(9)"
   ]
  },
  {
   "cell_type": "markdown",
   "metadata": {
    "slideshow": {
     "slide_type": "slide"
    }
   },
   "source": [
    "# Introductie Python\n",
    "\n",
    "* We introduceren Python met een grappige _rekenvondst_: \n",
    "    * als je $1\\ldots 1$ met zichzelf vermenigvuldigt krijg je $123\\ldots 321$\n",
    "\n",
    "```\n",
    "         1 x 1         =         1\n",
    "        11 x 11        =        121\n",
    "       111 x 111       =       12321\n",
    "      1111 x 1111      =      1234321\n",
    "     11111 x 11111     =     123454321\n",
    "    111111 x 111111    =    12345654321\n",
    "   1111111 x 1111111   =   1234567654321\n",
    "  11111111 x 11111111  =  123456787654321\n",
    " 111111111 x 111111111 = 12345678987654321 ```"
   ]
  },
  {
   "cell_type": "markdown",
   "metadata": {
    "slideshow": {
     "slide_type": "slide"
    }
   },
   "source": [
    "### Inhoud van de introductie\n",
    "1. Python is een rekenmachine\n",
    "2. Je kunt ook 'rekenen' met woorden\n",
    "3. Type-casting: omzetten van het ene naar het andere type\n",
    "4. loops"
   ]
  },
  {
   "cell_type": "markdown",
   "metadata": {
    "slideshow": {
     "slide_type": "slide"
    }
   },
   "source": [
    "## Rekenen met python"
   ]
  },
  {
   "cell_type": "code",
   "execution_count": 2,
   "metadata": {
    "slideshow": {
     "slide_type": "fragment"
    }
   },
   "outputs": [
    {
     "data": {
      "text/plain": [
       "1"
      ]
     },
     "execution_count": 2,
     "metadata": {},
     "output_type": "execute_result"
    }
   ],
   "source": [
    "1*1"
   ]
  },
  {
   "cell_type": "code",
   "execution_count": 3,
   "metadata": {
    "slideshow": {
     "slide_type": "fragment"
    }
   },
   "outputs": [
    {
     "data": {
      "text/plain": [
       "121"
      ]
     },
     "execution_count": 3,
     "metadata": {},
     "output_type": "execute_result"
    }
   ],
   "source": [
    "11*11"
   ]
  },
  {
   "cell_type": "code",
   "execution_count": 4,
   "metadata": {
    "slideshow": {
     "slide_type": "fragment"
    }
   },
   "outputs": [
    {
     "data": {
      "text/plain": [
       "12321"
      ]
     },
     "execution_count": 4,
     "metadata": {},
     "output_type": "execute_result"
    }
   ],
   "source": [
    "111*111"
   ]
  },
  {
   "cell_type": "markdown",
   "metadata": {
    "slideshow": {
     "slide_type": "slide"
    }
   },
   "source": [
    "### Nu jij\n",
    "\n",
    "1. Ga optellen (ja met `+`)\n",
    "1. Ga machtsverheffen: $2^3$, 2 tot de macht 3\n",
    "    * is gelijk aan $2 \\times 2\\times 2$\n",
    "    * In python: `2**3`\n",
    "1. Ga aftrekken\n",
    "1. Ga delen.\n",
    "    * hier gebeurt iets geks\n",
    "    * wat is hier aan de hand?"
   ]
  },
  {
   "cell_type": "code",
   "execution_count": 5,
   "metadata": {},
   "outputs": [
    {
     "data": {
      "text/plain": [
       "True"
      ]
     },
     "execution_count": 5,
     "metadata": {},
     "output_type": "execute_result"
    }
   ],
   "source": [
    "# ga hier lekker proberen\n",
    "# als je iets wilt uitrekenen, doe je Shift Return (of je drukt op de play knop boven in het menu)\n",
    "\n",
    "2**4==2**3 *2"
   ]
  },
  {
   "cell_type": "markdown",
   "metadata": {
    "slideshow": {
     "slide_type": "slide"
    }
   },
   "source": [
    "## Rekenen met woorden\n",
    "\n",
    "* Woorden (_strings_) in Python staan altijd tussen quotes (enkele of dubbele)\n",
    "* Wat denk je dat `'bla'+'bla'` betekent?\n",
    "* En `'bla'* 3`\n",
    "* en `'bla'*'bla'`\n",
    "\n",
    "#### Probeer het uit en vergeet het nooit meer."
   ]
  },
  {
   "cell_type": "code",
   "execution_count": 6,
   "metadata": {
    "slideshow": {
     "slide_type": "slide"
    }
   },
   "outputs": [
    {
     "data": {
      "text/plain": [
       "'blabla'"
      ]
     },
     "execution_count": 6,
     "metadata": {},
     "output_type": "execute_result"
    }
   ],
   "source": [
    "'bla'+'bla'"
   ]
  },
  {
   "cell_type": "code",
   "execution_count": 7,
   "metadata": {
    "slideshow": {
     "slide_type": "fragment"
    }
   },
   "outputs": [
    {
     "data": {
      "text/plain": [
       "'blablablablablablablablablablablablablablablablablablablablablablablablablablablablablablablablablablablablablablablablablablablablablablablablablablablablablablablablablablablablablablablablablablablablablablablablablablablablablablablablablablablablablablablablablablablablablablablablablablablablablablablablablablablablablablablablablablablablablablablablablablablablablablablablablablablablablablablablablablablablablablablablablablablablablablablablablablablablablablablablablablablablablablablablablablablablablablablablablablablablablablablablablablablablablablablablablablablablablablablablablablablablablablablablablablablablablablablablablablablablablablablablablablablablablablablablablablablablablablablablablablablablablablablablablablablablablablablablablablablablablablablablablablablablablablablablablablablablablablablablablablablablablablablablablablablablablablablablablablablablablablablablablablablablablablablablablablablablablablablablablablablablablablablablablablablablablablablablablablablablablablablablablablablablablablablablablablablablablablablablablablablablablablablablablablablablablablablablablablablablablablablablablablablablablablablablablablablablablablablablablablablablablablablablablablablablablablablablablablablablablablablablablablablablablablablablablablablablablablablablablablablablablablablablablablablablablablablablablablablablablablablablablablablablablablablablablablablablablablablablablablablablablablablablablablablablablablablablablablablablablablablablablablablablablablablablablablablablablablablablablablablablablablablablablablablablablablablablablablablablablablablablablablablablablablablablablablablablablablablablablablablablablablablablablablablablablablablablablablablablablablablablablablablablablablablablablablablablablablablablablablablablablablablablablablablablablablablablablablablablablablablablablablablablablablablablablablablablablablablablablablablablablablablablablablablablablablablablablablablablablablablablablablablablablablablablablablablablablablablablablablablablablablablablablablablablablablablablablablablablablablablablablablablablablablablablablablablablablablablablablablablablablablablablablablablablablablablablablablablablablablablablablablablablablablablablablablablablablablablablablablablablablablablablablablablablablablablablablablablablablablablablablablablablablablablablablablablablablablablablablablablablablablablablablablablablablablablablablablablablablablablablablablablablablablablablablablablablablablablablablablablablablablablablablablablablablablablablablablablablablablablablablablablablablablablablablablablablablablablablablablablablablablablablablablablablablablablablablablablablablablablablablablablablablablablablablablablablablablablablablablablablablablablablablablablablablablablablablablablablablablablablablablablablablablablablablablablablablablablablablablablablablablablablablablablablablablablablablablablablablablablablablablablablablablablablablablablablablablablabla'"
      ]
     },
     "execution_count": 7,
     "metadata": {},
     "output_type": "execute_result"
    }
   ],
   "source": [
    "'bla'* 1000"
   ]
  },
  {
   "cell_type": "code",
   "execution_count": 8,
   "metadata": {},
   "outputs": [
    {
     "ename": "TypeError",
     "evalue": "can't multiply sequence by non-int of type 'str'",
     "output_type": "error",
     "traceback": [
      "\u001b[0;31m---------------------------------------------------------------------------\u001b[0m",
      "\u001b[0;31mTypeError\u001b[0m                                 Traceback (most recent call last)",
      "\u001b[0;32m<ipython-input-8-1ca67083299a>\u001b[0m in \u001b[0;36m<module>\u001b[0;34m()\u001b[0m\n\u001b[0;32m----> 1\u001b[0;31m \u001b[0;34m'bla'\u001b[0m\u001b[0;34m*\u001b[0m\u001b[0;34m'bla'\u001b[0m\u001b[0;34m\u001b[0m\u001b[0m\n\u001b[0m",
      "\u001b[0;31mTypeError\u001b[0m: can't multiply sequence by non-int of type 'str'"
     ]
    }
   ],
   "source": [
    "'bla'*'bla'"
   ]
  },
  {
   "cell_type": "markdown",
   "metadata": {
    "slideshow": {
     "slide_type": "slide"
    }
   },
   "source": [
    "## Type casting\n",
    "\n",
    "* Elk object heeft een type\n",
    "* Vaak is dit _impliciet_: Python probeert te raden wat het type is.\n",
    "* Python is slim: het kan het _woord_ `'98'` omzetten in het _getal_ `98`.\n",
    "* Zie je het verschil?\n",
    "\n",
    "#### Experimenteer met de volgende code\n",
    "* Maak zelf andere voorbeelden\n",
    "* Doe lekker gek"
   ]
  },
  {
   "cell_type": "code",
   "execution_count": 9,
   "metadata": {
    "slideshow": {
     "slide_type": "slide"
    }
   },
   "outputs": [
    {
     "data": {
      "text/plain": [
       "25"
      ]
     },
     "execution_count": 9,
     "metadata": {},
     "output_type": "execute_result"
    }
   ],
   "source": [
    "int('5')* 5"
   ]
  },
  {
   "cell_type": "code",
   "execution_count": 10,
   "metadata": {
    "slideshow": {
     "slide_type": "fragment"
    }
   },
   "outputs": [
    {
     "data": {
      "text/plain": [
       "'55555'"
      ]
     },
     "execution_count": 10,
     "metadata": {},
     "output_type": "execute_result"
    }
   ],
   "source": [
    "str(5)*5"
   ]
  },
  {
   "cell_type": "code",
   "execution_count": 11,
   "metadata": {},
   "outputs": [
    {
     "data": {
      "text/plain": [
       "int"
      ]
     },
     "execution_count": 11,
     "metadata": {},
     "output_type": "execute_result"
    }
   ],
   "source": [
    "type(5)"
   ]
  },
  {
   "cell_type": "code",
   "execution_count": 12,
   "metadata": {},
   "outputs": [
    {
     "data": {
      "text/plain": [
       "str"
      ]
     },
     "execution_count": 12,
     "metadata": {},
     "output_type": "execute_result"
    }
   ],
   "source": [
    "type('5')"
   ]
  },
  {
   "cell_type": "code",
   "execution_count": 13,
   "metadata": {
    "slideshow": {
     "slide_type": "fragment"
    }
   },
   "outputs": [],
   "source": [
    "henkie89='5'\n"
   ]
  },
  {
   "cell_type": "code",
   "execution_count": 14,
   "metadata": {},
   "outputs": [
    {
     "ename": "SyntaxError",
     "evalue": "invalid syntax (<ipython-input-14-565ed618d3b1>, line 1)",
     "output_type": "error",
     "traceback": [
      "\u001b[0;36m  File \u001b[0;32m\"<ipython-input-14-565ed618d3b1>\"\u001b[0;36m, line \u001b[0;32m1\u001b[0m\n\u001b[0;31m    henkie89.#TAB\u001b[0m\n\u001b[0m                 ^\u001b[0m\n\u001b[0;31mSyntaxError\u001b[0m\u001b[0;31m:\u001b[0m invalid syntax\n"
     ]
    }
   ],
   "source": [
    "henkie89.#TAB"
   ]
  },
  {
   "cell_type": "code",
   "execution_count": null,
   "metadata": {
    "slideshow": {
     "slide_type": "fragment"
    }
   },
   "outputs": [],
   "source": [
    "zes_getal=6\n",
    "zes_getal?"
   ]
  },
  {
   "cell_type": "markdown",
   "metadata": {
    "slideshow": {
     "slide_type": "slide"
    }
   },
   "source": [
    "### De mooie vermenigvuldiging: loops\n",
    "\n",
    "* We gaan alle producten $x\\times x$, voor $x$ een rijtje van 1 tot 9 enen, laten uitvoeren.\n",
    "* We doen dit met een _for loop_\n",
    "* we gebruiken\n",
    "    * `range`\n",
    "    * vermenigvuldigen van een \"de letter\" 1\n",
    "    * type casting\n",
    "    "
   ]
  },
  {
   "cell_type": "markdown",
   "metadata": {
    "slideshow": {
     "slide_type": "slide"
    }
   },
   "source": [
    "#### `range()` en lijsten\n",
    "* Python telt niet vanaf 1 maar vanaf 0\n",
    "* een lijst is een rijtje objecten, aangegeven met vierkante haken"
   ]
  },
  {
   "cell_type": "code",
   "execution_count": 15,
   "metadata": {
    "slideshow": {
     "slide_type": "fragment"
    }
   },
   "outputs": [
    {
     "data": {
      "text/plain": [
       "array([0, 1, 2])"
      ]
     },
     "execution_count": 15,
     "metadata": {},
     "output_type": "execute_result"
    }
   ],
   "source": [
    "# for Python 3 \n",
    "from numpy import arange as range\n",
    "\n",
    "range(3)"
   ]
  },
  {
   "cell_type": "code",
   "execution_count": 16,
   "metadata": {
    "slideshow": {
     "slide_type": "fragment"
    }
   },
   "outputs": [
    {
     "data": {
      "text/plain": [
       "array([1, 2, 3, 4])"
      ]
     },
     "execution_count": 16,
     "metadata": {},
     "output_type": "execute_result"
    }
   ],
   "source": [
    "range(1,5)"
   ]
  },
  {
   "cell_type": "markdown",
   "metadata": {
    "slideshow": {
     "slide_type": "slide"
    }
   },
   "source": [
    "### Onze mooie vermenigvuldiging"
   ]
  },
  {
   "cell_type": "code",
   "execution_count": 17,
   "metadata": {
    "slideshow": {
     "slide_type": "fragment"
    }
   },
   "outputs": [
    {
     "name": "stdout",
     "output_type": "stream",
     "text": [
      "1 1 1\n",
      "2 11 121\n",
      "3 111 12321\n",
      "4 1111 1234321\n",
      "5 11111 123454321\n",
      "6 111111 12345654321\n",
      "7 1111111 1234567654321\n",
      "8 11111111 123456787654321\n",
      "9 111111111 12345678987654321\n"
     ]
    }
   ],
   "source": [
    "for i in range(1,10): \n",
    "    eentjes= int('1'*i)\n",
    "    print(i,  eentjes,  eentjes*eentjes)"
   ]
  },
  {
   "cell_type": "markdown",
   "metadata": {
    "slideshow": {
     "slide_type": "slide"
    }
   },
   "source": [
    "## Nu JIJ:\n",
    "1. Print nog meer van dit soort producten. Kan je verklaren wat er gebeurt?\n",
    "1. Probeer ze eens in de omgekeerde volgorde uit te printen.\n",
    "1. Kan je ze zo uit printen dat de uitkomst een mooie driehoek wordt?\n",
    "1. Maak een functie voor dit soort driehoeksrijtjes met als argumenten het getal waarmee je begint (1,2,3,..) en het aantal keer dat je het product uitvoert."
   ]
  },
  {
   "cell_type": "code",
   "execution_count": 18,
   "metadata": {},
   "outputs": [],
   "source": [
    "# Ga hier aan de slag\n",
    "# Doe niet flauw en kijk niet naar de antwoorden beneden.\n"
   ]
  },
  {
   "cell_type": "markdown",
   "metadata": {
    "slideshow": {
     "slide_type": "slide"
    }
   },
   "source": [
    "## Antwoorden"
   ]
  },
  {
   "cell_type": "markdown",
   "metadata": {
    "slideshow": {
     "slide_type": "slide"
    }
   },
   "source": [
    "### Print nog meer van dit soort producten. Kan je verklaren wat er gebeurt?"
   ]
  },
  {
   "cell_type": "code",
   "execution_count": 19,
   "metadata": {
    "slideshow": {
     "slide_type": "fragment"
    }
   },
   "outputs": [
    {
     "name": "stdout",
     "output_type": "stream",
     "text": [
      "4\n",
      "484\n",
      "49284\n",
      "4937284\n",
      "493817284\n",
      "49382617284\n",
      "4938270617284\n",
      "493827150617284\n",
      "49382715950617284\n"
     ]
    }
   ],
   "source": [
    "# Print nog meer van dit soort producten. Kan je verklaren wat er gebeurt?\n",
    "for i in range(1,10): \n",
    "    print(int('2'*i)**2)"
   ]
  },
  {
   "cell_type": "markdown",
   "metadata": {
    "slideshow": {
     "slide_type": "slide"
    }
   },
   "source": [
    "### Probeer ze eens in de omgekeerde volgorde uit te printen."
   ]
  },
  {
   "cell_type": "code",
   "execution_count": 20,
   "metadata": {
    "slideshow": {
     "slide_type": "fragment"
    }
   },
   "outputs": [
    {
     "name": "stdout",
     "output_type": "stream",
     "text": [
      "49382715950617284\n",
      "493827150617284\n",
      "4938270617284\n",
      "49382617284\n",
      "493817284\n",
      "4937284\n",
      "49284\n",
      "484\n",
      "4\n"
     ]
    }
   ],
   "source": [
    "# Probeer ze eens in de omgekeerde volgorde uit te printen.\n",
    "for i in range(1,10): \n",
    "     print(int('2'*(10-i))**2)"
   ]
  },
  {
   "cell_type": "code",
   "execution_count": 21,
   "metadata": {
    "slideshow": {
     "slide_type": "slide"
    }
   },
   "outputs": [],
   "source": [
    "range?"
   ]
  },
  {
   "cell_type": "code",
   "execution_count": 22,
   "metadata": {
    "slideshow": {
     "slide_type": "fragment"
    }
   },
   "outputs": [
    {
     "data": {
      "text/plain": [
       "array([9, 8, 7, 6, 5, 4, 3, 2, 1])"
      ]
     },
     "execution_count": 22,
     "metadata": {},
     "output_type": "execute_result"
    }
   ],
   "source": [
    "range(9,0,-1)"
   ]
  },
  {
   "cell_type": "code",
   "execution_count": 23,
   "metadata": {},
   "outputs": [
    {
     "data": {
      "text/plain": [
       "array([ 0, 10, 20, 30, 40, 50, 60, 70, 80, 90])"
      ]
     },
     "execution_count": 23,
     "metadata": {},
     "output_type": "execute_result"
    }
   ],
   "source": [
    "range(0,100,10)"
   ]
  },
  {
   "cell_type": "code",
   "execution_count": 24,
   "metadata": {
    "slideshow": {
     "slide_type": "fragment"
    }
   },
   "outputs": [
    {
     "name": "stdout",
     "output_type": "stream",
     "text": [
      "49382715950617284\n",
      "493827150617284\n",
      "4938270617284\n",
      "49382617284\n",
      "493817284\n",
      "4937284\n",
      "49284\n",
      "484\n",
      "4\n"
     ]
    }
   ],
   "source": [
    "# Probeer ze eens in de omgekeerde volgorde uit te printen.\n",
    "for i in range(9,0,-1): \n",
    "     print(int('2'* i)**2)"
   ]
  },
  {
   "cell_type": "markdown",
   "metadata": {
    "slideshow": {
     "slide_type": "slide"
    }
   },
   "source": [
    "### Kan je ze zo uit printen dat de uitkomst een mooie driehoek wordt?"
   ]
  },
  {
   "cell_type": "code",
   "execution_count": 25,
   "metadata": {
    "slideshow": {
     "slide_type": "fragment"
    }
   },
   "outputs": [
    {
     "name": "stdout",
     "output_type": "stream",
     "text": [
      "         1         heerlijk\n",
      "        121        heerlijk\n",
      "       12321       heerlijk\n",
      "      1234321      heerlijk\n",
      "     123454321     heerlijk\n",
      "    12345654321    heerlijk\n",
      "   1234567654321   heerlijk\n",
      "  123456787654321  heerlijk\n",
      " 12345678987654321 heerlijk\n"
     ]
    }
   ],
   "source": [
    "#Kan je ze zo uit printen dat de uitkomst een mooie driehoek wordt?\n",
    "for i in range(1,10):  \n",
    "        uitkomst = int('1'*i) * int('1'*i)\n",
    "        extra = 10-i \n",
    "        print(extra*' '+ str(uitkomst)+extra*' '+'heerlijk')\n",
    "                   "
   ]
  },
  {
   "cell_type": "markdown",
   "metadata": {
    "slideshow": {
     "slide_type": "slide"
    }
   },
   "source": [
    "## Maak een functie voor dit soort driehoeksrijtjes met als argumenten het getal waarmee je begint (1,2,3,..) en het aantal keer dat je het product uitvoert."
   ]
  },
  {
   "cell_type": "code",
   "execution_count": 26,
   "metadata": {
    "slideshow": {
     "slide_type": "fragment"
    }
   },
   "outputs": [
    {
     "name": "stdout",
     "output_type": "stream",
     "text": [
      "                             49\n",
      "                            5929\n",
      "                           603729\n",
      "                          60481729\n",
      "                         6049261729\n",
      "                        604937061729\n",
      "                       60493815061729\n",
      "                      6049382595061729\n",
      "                     604938270395061729\n",
      "                    60493827148395061729\n",
      "                   6049382715928395061729\n",
      "                  604938271603728395061729\n",
      "                 60493827160481728395061729\n",
      "                6049382716049261728395061729\n",
      "               604938271604937061728395061729\n",
      "              60493827160493815061728395061729\n",
      "             6049382716049382595061728395061729\n",
      "            604938271604938270395061728395061729\n",
      "           60493827160493827148395061728395061729\n",
      "          6049382716049382715928395061728395061729\n",
      "         604938271604938271603728395061728395061729\n",
      "        60493827160493827160481728395061728395061729\n",
      "       6049382716049382716049261728395061728395061729\n",
      "      604938271604938271604937061728395061728395061729\n",
      "     60493827160493827160493815061728395061728395061729\n",
      "    6049382716049382716049382595061728395061728395061729\n",
      "   604938271604938271604938270395061728395061728395061729\n",
      "  60493827160493827160493827148395061728395061728395061729\n",
      " 6049382716049382716049382715928395061728395061728395061729\n"
     ]
    }
   ],
   "source": [
    "def getallenboom(getal,aantal):\n",
    "    for i in range(1,aantal):  \n",
    "        uitkomst = int(str(getal)*i)**2\n",
    "        extra = aantal-i \n",
    "        print(extra*' '+str(uitkomst))\n",
    "        \n",
    "#test\n",
    "getallenboom(7,30)"
   ]
  },
  {
   "cell_type": "code",
   "execution_count": 27,
   "metadata": {
    "slideshow": {
     "slide_type": "slide"
    }
   },
   "outputs": [
    {
     "name": "stdout",
     "output_type": "stream",
     "text": [
      "         1 x 1         =         1\n",
      "        11 x 11        =        121\n",
      "       111 x 111       =       12321\n",
      "      1111 x 1111      =      1234321\n",
      "     11111 x 11111     =     123454321\n",
      "    111111 x 111111    =    12345654321\n",
      "   1111111 x 1111111   =   1234567654321\n",
      "  11111111 x 11111111  =  123456787654321\n",
      " 111111111 x 111111111 = 12345678987654321\n"
     ]
    }
   ],
   "source": [
    "# De code voor de uitkomst aan het begin van dit notebook\n",
    "\n",
    "#Kan je ze zo uit printen dat de uitkomst een mooie driehoek wordt?\n",
    "for i in range(1,10):  \n",
    "        x = int('1'*i)\n",
    "        uitkomst = x**2\n",
    "        extra = (10-i) *' '\n",
    "        print(extra + str(x) + \" x \" + str(x) + extra + \"=\" + extra  + str(uitkomst) )\n",
    "                   "
   ]
  },
  {
   "cell_type": "markdown",
   "metadata": {
    "slideshow": {
     "slide_type": "slide"
    }
   },
   "source": [
    "### Speciale Kerst Boom\n",
    "* we voegen ook nog een stam toe"
   ]
  },
  {
   "cell_type": "code",
   "execution_count": 28,
   "metadata": {
    "slideshow": {
     "slide_type": "slide"
    }
   },
   "outputs": [
    {
     "name": "stdout",
     "output_type": "stream",
     "text": [
      "                                        1\n",
      "                                       121\n",
      "                                      12321\n",
      "                                     1234321\n",
      "                                    123454321\n",
      "                                   12345654321\n",
      "                                  1234567654321\n",
      "                                 123456787654321\n",
      "                                12345678987654321\n",
      "                               1234567900987654321\n",
      "                              123456790120987654321\n",
      "                             12345679012320987654321\n",
      "                            1234567901234320987654321\n",
      "                           123456790123454320987654321\n",
      "                          12345679012345654320987654321\n",
      "                         1234567901234567654320987654321\n",
      "                        123456790123456787654320987654321\n",
      "                       12345679012345678987654320987654321\n",
      "                      1234567901234567900987654320987654321\n",
      "                     123456790123456790120987654320987654321\n",
      "                    12345679012345679012320987654320987654321\n",
      "                   1234567901234567901234320987654320987654321\n",
      "                  123456790123456790123454320987654320987654321\n",
      "                 12345679012345679012345654320987654320987654321\n",
      "                1234567901234567901234567654320987654320987654321\n",
      "               123456790123456790123456787654320987654320987654321\n",
      "              12345679012345679012345678987654320987654320987654321\n",
      "             1234567901234567901234567900987654320987654320987654321\n",
      "            123456790123456790123456790120987654320987654320987654321\n",
      "           12345679012345679012345679012320987654320987654320987654321\n",
      "          1234567901234567901234567901234320987654320987654320987654321\n",
      "         123456790123456790123456790123454320987654320987654320987654321\n",
      "        12345679012345679012345679012345654320987654320987654320987654321\n",
      "       1234567901234567901234567901234567654320987654320987654320987654321\n",
      "      123456790123456790123456790123456787654320987654320987654320987654321\n",
      "     12345679012345679012345679012345678987654320987654320987654320987654321\n",
      "    1234567901234567901234567901234567900987654320987654320987654320987654321\n",
      "   123456790123456790123456790123456790120987654320987654320987654320987654321\n",
      "  12345679012345679012345679012345679012320987654320987654320987654320987654321\n",
      "                                  !!!!!!!!!!\n",
      "                                  !!!!!!!!!!\n",
      "                                  !!!!!!!!!!\n",
      "                                  !!!!!!!!!!\n",
      "                                  !!!!!!!!!!\n"
     ]
    }
   ],
   "source": [
    "def getallenboom_met_stam(getal,aantal,stamdikte):\n",
    "    for i in range(1,aantal):  \n",
    "        uitkomst = int(str(getal)*i)**2\n",
    "        extra = aantal-i \n",
    "        lijn = str(extra*' ')+str(uitkomst)\n",
    "        print(extra*' ',uitkomst)\n",
    "    # print de stam\n",
    "    for i in range(5):  \n",
    "        print( (len(lijn)//2 - (stamdikte//2))*' '+'!'*stamdikte) # let op integer division\n",
    "\n",
    "# test        \n",
    "getallenboom_met_stam(1,40,10)"
   ]
  },
  {
   "cell_type": "markdown",
   "metadata": {
    "slideshow": {
     "slide_type": "slide"
    }
   },
   "source": [
    "## Python kan alles! \n",
    "\n",
    "### Hierna\n",
    "\n",
    "* Fibonnaci\n",
    "* lekker spammen: mails sturen vanuit Python"
   ]
  },
  {
   "cell_type": "markdown",
   "metadata": {
    "slideshow": {
     "slide_type": "slide"
    }
   },
   "source": [
    "## Fibonacci\n",
    "\n",
    "* Zie Wikipedia\n",
    "    * <https://nl.wikipedia.org/wiki/Rij_van_Fibonacci>\n",
    "    * <https://en.wikipedia.org/wiki/Fibonacci_number>\n",
    "    \n",
    "### Voortplanting van konijnen\n",
    "<img src='https://artblot.files.wordpress.com/2013/05/fibonacci-rabbits.png'/>"
   ]
  },
  {
   "cell_type": "markdown",
   "metadata": {
    "slideshow": {
     "slide_type": "slide"
    }
   },
   "source": [
    "# In formele regels\n",
    "\n",
    "1. We beginnen met 1 paar konijnen.\n",
    "2. Elk paar konijnen is na 2 periodes geslachtsrijp\n",
    "3. Een paar geslachtsrijpe konijnen krijgt altijd 2 kinderen.\n",
    "4. Konijnen gaat nooit dood."
   ]
  },
  {
   "cell_type": "markdown",
   "metadata": {
    "slideshow": {
     "slide_type": "slide"
    }
   },
   "source": [
    "# Fibonacci reeks in de Nautilus schelp\n",
    "\n",
    "<img width =40% src='https://upload.wikimedia.org/wikipedia/commons/thumb/d/db/34%2A21-FibonacciBlocks.png/300px-34%2A21-FibonacciBlocks.png'>\n",
    "<img width =40% src='https://upload.wikimedia.org/wikipedia/commons/thumb/9/93/Fibonacci_spiral_34.svg/180px-Fibonacci_spiral_34.svg.png'/>"
   ]
  },
  {
   "cell_type": "markdown",
   "metadata": {
    "slideshow": {
     "slide_type": "slide"
    }
   },
   "source": [
    "### Programmeren\n",
    "\n",
    "1. We maken een functie `fib(n)` waarbij \n",
    "    * `n` de generatie is\n",
    "    * en de _uitkomst_ het aantal paren in die generatie is."
   ]
  },
  {
   "cell_type": "markdown",
   "metadata": {
    "slideshow": {
     "slide_type": "fragment"
    }
   },
   "source": [
    "2. Dus \n",
    "    * `fib(1)=1`\n",
    "    * `fib(2)=1`\n",
    "    * `fib(3)=2`\n",
    "    * `fib(4)=3`\n",
    "    * `fib(5)=5`\n",
    "    * `fib(6)=8`\n",
    "    * $\\ldots$\n",
    "    "
   ]
  },
  {
   "cell_type": "markdown",
   "metadata": {
    "slideshow": {
     "slide_type": "slide"
    }
   },
   "source": [
    "#### In Python\n",
    "\n",
    "3. De _algemene regel_ is  `fib(n)= fib(n-1)+fib(n-2)`\n",
    "    * Natuurlijk alleen voor $n\\geq 3$.\n",
    "    * De eerste twee zijn speciale gevallen."
   ]
  },
  {
   "cell_type": "code",
   "execution_count": 29,
   "metadata": {
    "slideshow": {
     "slide_type": "fragment"
    }
   },
   "outputs": [],
   "source": [
    "def fib(n): # only correct for input n>=1\n",
    "    if n==1 or n==2:\n",
    "        return 1\n",
    "    else:\n",
    "        return fib(n-1) + fib(n-2)"
   ]
  },
  {
   "cell_type": "code",
   "execution_count": 30,
   "metadata": {
    "slideshow": {
     "slide_type": "slide"
    }
   },
   "outputs": [
    {
     "name": "stdout",
     "output_type": "stream",
     "text": [
      "1 1\n",
      "2 1\n",
      "3 2\n",
      "4 3\n",
      "5 5\n",
      "6 8\n",
      "7 13\n",
      "8 21\n",
      "9 34\n",
      "10 55\n",
      "11 89\n",
      "12 144\n",
      "13 233\n",
      "14 377\n",
      "15 610\n",
      "16 987\n",
      "17 1597\n",
      "18 2584\n",
      "19 4181\n"
     ]
    }
   ],
   "source": [
    "# test\n",
    "for n in range(1,20):\n",
    "    print(n,fib(n))"
   ]
  },
  {
   "cell_type": "code",
   "execution_count": 34,
   "metadata": {
    "slideshow": {
     "slide_type": "slide"
    }
   },
   "outputs": [
    {
     "name": "stdout",
     "output_type": "stream",
     "text": [
      "CPU times: user 30.2 s, sys: 113 ms, total: 30.3 s\n",
      "Wall time: 30.8 s\n"
     ]
    },
    {
     "data": {
      "text/plain": [
       "102334155"
      ]
     },
     "execution_count": 34,
     "metadata": {},
     "output_type": "execute_result"
    }
   ],
   "source": [
    "%%time\n",
    "fib(40)"
   ]
  },
  {
   "cell_type": "markdown",
   "metadata": {
    "slideshow": {
     "slide_type": "slide"
    }
   },
   "source": [
    "# Nu met echte konijnen"
   ]
  },
  {
   "cell_type": "code",
   "execution_count": 35,
   "metadata": {
    "slideshow": {
     "slide_type": "fragment"
    }
   },
   "outputs": [
    {
     "name": "stdout",
     "output_type": "stream",
     "text": [
      "1 🐇\n",
      "2 🐇\n",
      "3 🐇🐇\n",
      "4 🐇🐇🐇\n",
      "5 🐇🐇🐇🐇🐇\n",
      "6 🐇🐇🐇🐇🐇🐇🐇🐇\n",
      "7 🐇🐇🐇🐇🐇🐇🐇🐇🐇🐇🐇🐇🐇\n",
      "8 🐇🐇🐇🐇🐇🐇🐇🐇🐇🐇🐇🐇🐇🐇🐇🐇🐇🐇🐇🐇🐇\n",
      "9 🐇🐇🐇🐇🐇🐇🐇🐇🐇🐇🐇🐇🐇🐇🐇🐇🐇🐇🐇🐇🐇🐇🐇🐇🐇🐇🐇🐇🐇🐇🐇🐇🐇🐇\n"
     ]
    }
   ],
   "source": [
    "def fib(n):\n",
    "    if n==1 or n==2:\n",
    "        return u\"\\U0001F407\" # See https://www.fileformat.info/info/unicode/char/1f407/index.htm\n",
    "    else:\n",
    "        return fib(n-1)+fib(n-2)\n",
    "    \n",
    "# test\n",
    "for n in range(1,10):\n",
    "    print(n,fib(n) )\n"
   ]
  },
  {
   "cell_type": "markdown",
   "metadata": {
    "collapsed": true,
    "slideshow": {
     "slide_type": "slide"
    }
   },
   "source": [
    "# Tot slot: mail sturen vanuit Python! \n",
    "\n",
    "Is as easy as you like it!\n",
    "See <https://stackabuse.com/how-to-send-emails-with-gmail-using-python/> where this example below is taken from.\n",
    "It worked with my gmail account. But I had to allow \"insecure apps\" to access my Google account.\n",
    "\n",
    "CAUTION: you can only send 100-150 emails per 24 hours with Gmail SMTP. So don't spam to much ;)\n",
    "\n",
    "Tip: Make functions to provide and determine the content of your mail.\n",
    "\n",
    "(Run the actual mail sending code as last)\n",
    "\n",
    "### Be aware\n",
    "\n",
    "Google does not accept by default when you mail from with Python. You can tell it to accept it here: <https://myaccount.google.com/lesssecureapps>. Click yes, and the code in the next two cells will run.\n",
    "\n",
    "First test it by setting `to=['yourown@gmail.com']`"
   ]
  },
  {
   "cell_type": "code",
   "execution_count": 41,
   "metadata": {
    "slideshow": {
     "slide_type": "slide"
    }
   },
   "outputs": [
    {
     "name": "stdout",
     "output_type": "stream",
     "text": [
      " \n",
      "From: maartenmarx@gmail.com  \n",
      "To:   \n",
      "Subject: OMG Super Important Message\n",
      "\n",
      "\n",
      "Hey, what's up?\n",
      "\n",
      "- You\"\n",
      "\n",
      "\n"
     ]
    }
   ],
   "source": [
    "import smtplib\n",
    "\n",
    "# Zet alle ingredienten\n",
    "\n",
    "\n",
    "gmail_user = 'yourown@gmail.com'   # Jouw gmail adres\n",
    "gmail_password = 'yourGooglePassword'           # Jouw wachtwoord yourGooglePassword\n",
    "\n",
    "sent_from = gmail_user  \n",
    "to = [ ]  # Lijst met adressen naar wie je gaat sturen\n",
    "subject = 'OMG Super Important Message'  \n",
    "body = '''\n",
    "Hey, what's up?\n",
    "\n",
    "- You\"\n",
    "'''\n",
    "\n",
    "email_text = \"\"\" \n",
    "From: %s  \n",
    "To: %s  \n",
    "Subject: %s\n",
    "\n",
    "%s\n",
    "\"\"\" % (sent_from, \", \".join(to), subject, body)\n",
    "\n",
    "print(email_text)"
   ]
  },
  {
   "cell_type": "code",
   "execution_count": 43,
   "metadata": {
    "slideshow": {
     "slide_type": "slide"
    }
   },
   "outputs": [],
   "source": [
    "# Stuur de mail nu echt\n",
    "\n",
    "\n",
    "server = smtplib.SMTP('smtp.gmail.com', 587)\n",
    "server.ehlo()\n",
    "server.starttls()\n",
    "server.login(gmail_user, gmail_password)\n",
    "server.sendmail(sent_from, to, email_text)\n",
    "server.close()"
   ]
  },
  {
   "cell_type": "markdown",
   "metadata": {
    "slideshow": {
     "slide_type": "slide"
    }
   },
   "source": [
    "# Mail versturen, spammen\n",
    "\n",
    "* Dit kan natuurlijk nog veel beter\n",
    "* nettere code\n",
    "    * geen wachtwoorden in je code!\n",
    "    * ook de zender als argument van de functie\n",
    "* Het bericht **personaliseren**.\n",
    "    * Ipv _\"Hallo daar\"_ zet je _\"Beste ..._\"\n",
    "    * In de brief zet je nog meer persoonlijke dingen\n",
    "    * **Dat kan allemaal automatisch met Python!**"
   ]
  }
 ],
 "metadata": {
  "celltoolbar": "Slideshow",
  "kernelspec": {
   "display_name": "Python 3",
   "language": "python",
   "name": "python3"
  },
  "language_info": {
   "codemirror_mode": {
    "name": "ipython",
    "version": 3
   },
   "file_extension": ".py",
   "mimetype": "text/x-python",
   "name": "python",
   "nbconvert_exporter": "python",
   "pygments_lexer": "ipython3",
   "version": "3.6.3"
  },
  "toc": {
   "nav_menu": {},
   "number_sections": true,
   "sideBar": true,
   "skip_h1_title": false,
   "title_cell": "Table of Contents",
   "title_sidebar": "Contents",
   "toc_cell": true,
   "toc_position": {},
   "toc_section_display": true,
   "toc_window_display": false
  }
 },
 "nbformat": 4,
 "nbformat_minor": 1
}
